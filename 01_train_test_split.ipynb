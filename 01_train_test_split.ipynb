{
 "cells": [
  {
   "cell_type": "code",
   "execution_count": 1,
   "metadata": {},
   "outputs": [],
   "source": [
    "import pandas as pd\n",
    "import os\n",
    "from sklearn.model_selection import train_test_split\n",
    "import numpy as np"
   ]
  },
  {
   "cell_type": "code",
   "execution_count": 2,
   "metadata": {},
   "outputs": [],
   "source": [
    "os.chdir('../../Data')"
   ]
  },
  {
   "cell_type": "code",
   "execution_count": 3,
   "metadata": {},
   "outputs": [],
   "source": [
    "df = pd.read_csv('final_data.csv',header=0)"
   ]
  },
  {
   "cell_type": "code",
   "execution_count": 4,
   "metadata": {},
   "outputs": [],
   "source": [
    "rename_dict = {col : '_'.join(col.split(' ')) for col in df.columns}"
   ]
  },
  {
   "cell_type": "code",
   "execution_count": 5,
   "metadata": {},
   "outputs": [
    {
     "data": {
      "text/plain": [
       "{'Date': 'Date',\n",
       " 'Symbol': 'Symbol',\n",
       " 'Series': 'Series',\n",
       " 'Prev Close': 'Prev_Close',\n",
       " 'Open': 'Open',\n",
       " 'High': 'High',\n",
       " 'Low': 'Low',\n",
       " 'Last': 'Last',\n",
       " 'Close': 'Close',\n",
       " 'VWAP': 'VWAP',\n",
       " 'Volume': 'Volume',\n",
       " 'Turnover': 'Turnover',\n",
       " 'Trades': 'Trades',\n",
       " 'Deliverable Volume': 'Deliverable_Volume',\n",
       " '%Deliverble': '%Deliverble',\n",
       " 'Sector': 'Sector',\n",
       " 'Open_nifty': 'Open_nifty',\n",
       " 'High_nifty': 'High_nifty',\n",
       " 'Low_nifty': 'Low_nifty',\n",
       " 'Close_nifty': 'Close_nifty',\n",
       " 'Volume_nifty': 'Volume_nifty',\n",
       " 'Turnover_nifty': 'Turnover_nifty',\n",
       " 'Open_auto': 'Open_auto',\n",
       " 'High_auto': 'High_auto',\n",
       " 'Low_auto': 'Low_auto',\n",
       " 'Close_auto': 'Close_auto',\n",
       " 'Volume_auto': 'Volume_auto',\n",
       " 'Turnover_auto': 'Turnover_auto',\n",
       " 'Open_bank': 'Open_bank',\n",
       " 'High_bank': 'High_bank',\n",
       " 'Low_bank': 'Low_bank',\n",
       " 'Close_bank': 'Close_bank',\n",
       " 'Volume_bank': 'Volume_bank',\n",
       " 'Turnover_bank': 'Turnover_bank',\n",
       " 'Open_fmcg': 'Open_fmcg',\n",
       " 'High_fmcg': 'High_fmcg',\n",
       " 'Low_fmcg': 'Low_fmcg',\n",
       " 'Close_fmcg': 'Close_fmcg',\n",
       " 'Volume_fmcg': 'Volume_fmcg',\n",
       " 'Turnover_fmcg': 'Turnover_fmcg',\n",
       " 'Open_it': 'Open_it',\n",
       " 'High_it': 'High_it',\n",
       " 'Low_it': 'Low_it',\n",
       " 'Close_it': 'Close_it',\n",
       " 'Volume_it': 'Volume_it',\n",
       " 'Turnover_it': 'Turnover_it',\n",
       " 'Open_media': 'Open_media',\n",
       " 'High_media': 'High_media',\n",
       " 'Low_media': 'Low_media',\n",
       " 'Close_media': 'Close_media',\n",
       " 'Volume_media': 'Volume_media',\n",
       " 'Turnover_media': 'Turnover_media',\n",
       " 'Open_metal': 'Open_metal',\n",
       " 'High_metal': 'High_metal',\n",
       " 'Low_metal': 'Low_metal',\n",
       " 'Close_metal': 'Close_metal',\n",
       " 'Volume_metal': 'Volume_metal',\n",
       " 'Turnover_metal': 'Turnover_metal',\n",
       " 'Open_pharma': 'Open_pharma',\n",
       " 'High_pharma': 'High_pharma',\n",
       " 'Low_pharma': 'Low_pharma',\n",
       " 'Close_pharma': 'Close_pharma',\n",
       " 'Volume_pharma': 'Volume_pharma',\n",
       " 'Turnover_pharma': 'Turnover_pharma',\n",
       " 'Open_realty': 'Open_realty',\n",
       " 'High_realty': 'High_realty',\n",
       " 'Low_realty': 'Low_realty',\n",
       " 'Close_realty': 'Close_realty',\n",
       " 'Volume_realty': 'Volume_realty',\n",
       " 'Turnover_realty': 'Turnover_realty',\n",
       " 'Open_psu': 'Open_psu',\n",
       " 'High_psu': 'High_psu',\n",
       " 'Low_psu': 'Low_psu',\n",
       " 'Close_psu': 'Close_psu',\n",
       " 'Volume_psu': 'Volume_psu',\n",
       " 'Turnover_psu': 'Turnover_psu',\n",
       " 'Open_500': 'Open_500',\n",
       " 'High_500': 'High_500',\n",
       " 'Low_500': 'Low_500',\n",
       " 'Close_500': 'Close_500',\n",
       " 'Volume_500': 'Volume_500',\n",
       " 'Turnover_500': 'Turnover_500'}"
      ]
     },
     "execution_count": 5,
     "metadata": {},
     "output_type": "execute_result"
    }
   ],
   "source": [
    "rename_dict"
   ]
  },
  {
   "cell_type": "code",
   "execution_count": 6,
   "metadata": {},
   "outputs": [],
   "source": [
    "df.rename(rename_dict,copy=False,inplace=True,axis=1)"
   ]
  },
  {
   "cell_type": "code",
   "execution_count": 7,
   "metadata": {},
   "outputs": [],
   "source": [
    "companies = list(df['Symbol'].unique())"
   ]
  },
  {
   "cell_type": "code",
   "execution_count": 8,
   "metadata": {},
   "outputs": [],
   "source": [
    "cols_to_shift = [col for col in df.columns if col not in ['Date','Symbol','Series','Prev_Close','Open','Sector','Close']]"
   ]
  },
  {
   "cell_type": "code",
   "execution_count": 9,
   "metadata": {},
   "outputs": [],
   "source": [
    "rename_dict2 = {col : col+'_1d' for col in cols_to_shift}"
   ]
  },
  {
   "cell_type": "code",
   "execution_count": 10,
   "metadata": {},
   "outputs": [
    {
     "data": {
      "text/plain": [
       "{'High': 'High_1d',\n",
       " 'Low': 'Low_1d',\n",
       " 'Last': 'Last_1d',\n",
       " 'VWAP': 'VWAP_1d',\n",
       " 'Volume': 'Volume_1d',\n",
       " 'Turnover': 'Turnover_1d',\n",
       " 'Trades': 'Trades_1d',\n",
       " 'Deliverable_Volume': 'Deliverable_Volume_1d',\n",
       " '%Deliverble': '%Deliverble_1d',\n",
       " 'Open_nifty': 'Open_nifty_1d',\n",
       " 'High_nifty': 'High_nifty_1d',\n",
       " 'Low_nifty': 'Low_nifty_1d',\n",
       " 'Close_nifty': 'Close_nifty_1d',\n",
       " 'Volume_nifty': 'Volume_nifty_1d',\n",
       " 'Turnover_nifty': 'Turnover_nifty_1d',\n",
       " 'Open_auto': 'Open_auto_1d',\n",
       " 'High_auto': 'High_auto_1d',\n",
       " 'Low_auto': 'Low_auto_1d',\n",
       " 'Close_auto': 'Close_auto_1d',\n",
       " 'Volume_auto': 'Volume_auto_1d',\n",
       " 'Turnover_auto': 'Turnover_auto_1d',\n",
       " 'Open_bank': 'Open_bank_1d',\n",
       " 'High_bank': 'High_bank_1d',\n",
       " 'Low_bank': 'Low_bank_1d',\n",
       " 'Close_bank': 'Close_bank_1d',\n",
       " 'Volume_bank': 'Volume_bank_1d',\n",
       " 'Turnover_bank': 'Turnover_bank_1d',\n",
       " 'Open_fmcg': 'Open_fmcg_1d',\n",
       " 'High_fmcg': 'High_fmcg_1d',\n",
       " 'Low_fmcg': 'Low_fmcg_1d',\n",
       " 'Close_fmcg': 'Close_fmcg_1d',\n",
       " 'Volume_fmcg': 'Volume_fmcg_1d',\n",
       " 'Turnover_fmcg': 'Turnover_fmcg_1d',\n",
       " 'Open_it': 'Open_it_1d',\n",
       " 'High_it': 'High_it_1d',\n",
       " 'Low_it': 'Low_it_1d',\n",
       " 'Close_it': 'Close_it_1d',\n",
       " 'Volume_it': 'Volume_it_1d',\n",
       " 'Turnover_it': 'Turnover_it_1d',\n",
       " 'Open_media': 'Open_media_1d',\n",
       " 'High_media': 'High_media_1d',\n",
       " 'Low_media': 'Low_media_1d',\n",
       " 'Close_media': 'Close_media_1d',\n",
       " 'Volume_media': 'Volume_media_1d',\n",
       " 'Turnover_media': 'Turnover_media_1d',\n",
       " 'Open_metal': 'Open_metal_1d',\n",
       " 'High_metal': 'High_metal_1d',\n",
       " 'Low_metal': 'Low_metal_1d',\n",
       " 'Close_metal': 'Close_metal_1d',\n",
       " 'Volume_metal': 'Volume_metal_1d',\n",
       " 'Turnover_metal': 'Turnover_metal_1d',\n",
       " 'Open_pharma': 'Open_pharma_1d',\n",
       " 'High_pharma': 'High_pharma_1d',\n",
       " 'Low_pharma': 'Low_pharma_1d',\n",
       " 'Close_pharma': 'Close_pharma_1d',\n",
       " 'Volume_pharma': 'Volume_pharma_1d',\n",
       " 'Turnover_pharma': 'Turnover_pharma_1d',\n",
       " 'Open_realty': 'Open_realty_1d',\n",
       " 'High_realty': 'High_realty_1d',\n",
       " 'Low_realty': 'Low_realty_1d',\n",
       " 'Close_realty': 'Close_realty_1d',\n",
       " 'Volume_realty': 'Volume_realty_1d',\n",
       " 'Turnover_realty': 'Turnover_realty_1d',\n",
       " 'Open_psu': 'Open_psu_1d',\n",
       " 'High_psu': 'High_psu_1d',\n",
       " 'Low_psu': 'Low_psu_1d',\n",
       " 'Close_psu': 'Close_psu_1d',\n",
       " 'Volume_psu': 'Volume_psu_1d',\n",
       " 'Turnover_psu': 'Turnover_psu_1d',\n",
       " 'Open_500': 'Open_500_1d',\n",
       " 'High_500': 'High_500_1d',\n",
       " 'Low_500': 'Low_500_1d',\n",
       " 'Close_500': 'Close_500_1d',\n",
       " 'Volume_500': 'Volume_500_1d',\n",
       " 'Turnover_500': 'Turnover_500_1d'}"
      ]
     },
     "execution_count": 10,
     "metadata": {},
     "output_type": "execute_result"
    }
   ],
   "source": [
    "rename_dict2"
   ]
  },
  {
   "cell_type": "code",
   "execution_count": 11,
   "metadata": {},
   "outputs": [
    {
     "name": "stdout",
     "output_type": "stream",
     "text": [
      "development data for ADANIPORTS\n"
     ]
    },
    {
     "name": "stderr",
     "output_type": "stream",
     "text": [
      "C:\\Users\\DELL\\Anaconda3\\lib\\site-packages\\ipykernel_launcher.py:5: SettingWithCopyWarning: \n",
      "A value is trying to be set on a copy of a slice from a DataFrame.\n",
      "Try using .loc[row_indexer,col_indexer] = value instead\n",
      "\n",
      "See the caveats in the documentation: http://pandas.pydata.org/pandas-docs/stable/indexing.html#indexing-view-versus-copy\n",
      "  \"\"\"\n",
      "C:\\Users\\DELL\\Anaconda3\\lib\\site-packages\\ipykernel_launcher.py:6: SettingWithCopyWarning: \n",
      "A value is trying to be set on a copy of a slice from a DataFrame\n",
      "\n",
      "See the caveats in the documentation: http://pandas.pydata.org/pandas-docs/stable/indexing.html#indexing-view-versus-copy\n",
      "  \n",
      "C:\\Users\\DELL\\Anaconda3\\lib\\site-packages\\ipykernel_launcher.py:9: SettingWithCopyWarning: \n",
      "A value is trying to be set on a copy of a slice from a DataFrame.\n",
      "Try using .loc[row_indexer,col_indexer] = value instead\n",
      "\n",
      "See the caveats in the documentation: http://pandas.pydata.org/pandas-docs/stable/indexing.html#indexing-view-versus-copy\n",
      "  if __name__ == '__main__':\n",
      "C:\\Users\\DELL\\Anaconda3\\lib\\site-packages\\ipykernel_launcher.py:10: SettingWithCopyWarning: \n",
      "A value is trying to be set on a copy of a slice from a DataFrame.\n",
      "Try using .loc[row_indexer,col_indexer] = value instead\n",
      "\n",
      "See the caveats in the documentation: http://pandas.pydata.org/pandas-docs/stable/indexing.html#indexing-view-versus-copy\n",
      "  # Remove the CWD from sys.path while we load stuff.\n",
      "C:\\Users\\DELL\\Anaconda3\\lib\\site-packages\\ipykernel_launcher.py:12: SettingWithCopyWarning: \n",
      "A value is trying to be set on a copy of a slice from a DataFrame.\n",
      "Try using .loc[row_indexer,col_indexer] = value instead\n",
      "\n",
      "See the caveats in the documentation: http://pandas.pydata.org/pandas-docs/stable/indexing.html#indexing-view-versus-copy\n",
      "  if sys.path[0] == '':\n",
      "C:\\Users\\DELL\\Anaconda3\\lib\\site-packages\\ipykernel_launcher.py:13: SettingWithCopyWarning: \n",
      "A value is trying to be set on a copy of a slice from a DataFrame.\n",
      "Try using .loc[row_indexer,col_indexer] = value instead\n",
      "\n",
      "See the caveats in the documentation: http://pandas.pydata.org/pandas-docs/stable/indexing.html#indexing-view-versus-copy\n",
      "  del sys.path[0]\n",
      "C:\\Users\\DELL\\Anaconda3\\lib\\site-packages\\pandas\\core\\frame.py:3137: SettingWithCopyWarning: \n",
      "A value is trying to be set on a copy of a slice from a DataFrame.\n",
      "Try using .loc[row_indexer,col_indexer] = value instead\n",
      "\n",
      "See the caveats in the documentation: http://pandas.pydata.org/pandas-docs/stable/indexing.html#indexing-view-versus-copy\n",
      "  self[k1] = value[k2]\n",
      "C:\\Users\\DELL\\Anaconda3\\lib\\site-packages\\pandas\\core\\frame.py:3778: SettingWithCopyWarning: \n",
      "A value is trying to be set on a copy of a slice from a DataFrame\n",
      "\n",
      "See the caveats in the documentation: http://pandas.pydata.org/pandas-docs/stable/indexing.html#indexing-view-versus-copy\n",
      "  return super(DataFrame, self).rename(**kwargs)\n"
     ]
    },
    {
     "name": "stdout",
     "output_type": "stream",
     "text": [
      "development data for ASIANPAINT\n",
      "development data for AXISBANK\n",
      "development data for BAJAJ-AUTO\n",
      "development data for BAJFINANCE\n",
      "development data for BAJAJFINSV\n",
      "development data for BHARTIARTL\n",
      "development data for INFRATEL\n",
      "development data for BPCL\n",
      "development data for BRITANNIA\n",
      "development data for CIPLA\n",
      "development data for COALINDIA\n",
      "development data for DRREDDY\n",
      "development data for EICHERMOT\n",
      "development data for GAIL\n",
      "development data for GRASIM\n",
      "development data for HCLTECH\n",
      "development data for HDFC\n",
      "development data for HDFCBANK\n",
      "development data for HEROMOTOCO\n",
      "development data for HINDALCO\n",
      "development data for HINDUNILVR\n",
      "development data for ICICIBANK\n",
      "development data for IBULHSGFIN\n",
      "development data for INDUSINDBK\n",
      "development data for INFY\n",
      "development data for IOC\n",
      "development data for ITC\n",
      "development data for JSWSTEEL\n",
      "development data for KOTAKBANK\n",
      "development data for LT\n",
      "development data for M&M\n",
      "development data for MARUTI\n",
      "development data for NTPC\n",
      "development data for ONGC\n",
      "development data for POWERGRID\n",
      "development data for RELIANCE\n",
      "development data for SBIN\n",
      "development data for SUNPHARMA\n",
      "development data for TCS\n",
      "development data for TATAMOTORS\n",
      "development data for TATASTEEL\n",
      "development data for TECHM\n",
      "development data for TITAN\n",
      "development data for ULTRACEMCO\n",
      "development data for UPL\n",
      "development data for VEDL\n",
      "development data for WIPRO\n",
      "development data for YESBANK\n",
      "development data for ZEEL\n"
     ]
    }
   ],
   "source": [
    "development = pd.DataFrame()\n",
    "for company in companies:\n",
    "    print('development data for {}'.format(company))\n",
    "    df_append = df[df['Symbol']==company]\n",
    "    df_append['Date'] = pd.to_datetime(df['Date'])\n",
    "    df_append.sort_values(by='Date',inplace=True)\n",
    "    for index in ['nifty','auto','bank','fmcg','it','media','metal','pharma','realty','psu','500']:\n",
    "        for i in range(1,6):\n",
    "            df_append['return_{j}d_{index}'.format(j=i,index=index)] = (df_append['Close_{}'.format(index)].shift(i)-df_append['Open_{}'.format(index)].shift(i))/df_append['Open_{}'.format(index)].shift(i)*100\n",
    "        df_append['Voltality_{}'.format(index)] = df_append[['return_{i}d_{index}'.format(i=i,index=index) for i in range(1,6)]].apply(lambda x:np.std(x),axis=1)\n",
    "    for i in range(1,6):\n",
    "        df_append['return_{j}d'.format(j=i)] = (df_append['Close'].shift(i)-df_append['Open'].shift(i))/df_append['Open'].shift(i)*100\n",
    "    df_append['Voltality'] = df_append[['return_1d','return_2d','return_3d','return_4d','return_5d']].apply(lambda x:np.std(x),axis=1)\n",
    "    df_append[['Open_1d']+cols_to_shift] = df_append[['Open']+cols_to_shift].shift(1)\n",
    "    df_append.rename(rename_dict2,copy=False,inplace=True,axis=1)\n",
    "    development = development.append(df_append.iloc[5:])"
   ]
  },
  {
   "cell_type": "code",
   "execution_count": 12,
   "metadata": {},
   "outputs": [
    {
     "data": {
      "text/plain": [
       "(88899, 155)"
      ]
     },
     "execution_count": 12,
     "metadata": {},
     "output_type": "execute_result"
    }
   ],
   "source": [
    "development.shape"
   ]
  },
  {
   "cell_type": "code",
   "execution_count": 13,
   "metadata": {},
   "outputs": [
    {
     "data": {
      "text/plain": [
       "Index(['Date', 'Symbol', 'Series', 'Prev_Close', 'Open', 'High_1d', 'Low_1d',\n",
       "       'Last_1d', 'Close', 'VWAP_1d',\n",
       "       ...\n",
       "       'return_4d_500', 'return_5d_500', 'Voltality_500', 'return_1d',\n",
       "       'return_2d', 'return_3d', 'return_4d', 'return_5d', 'Voltality',\n",
       "       'Open_1d'],\n",
       "      dtype='object', length=155)"
      ]
     },
     "execution_count": 13,
     "metadata": {},
     "output_type": "execute_result"
    }
   ],
   "source": [
    "development.columns"
   ]
  },
  {
   "cell_type": "code",
   "execution_count": 14,
   "metadata": {},
   "outputs": [],
   "source": [
    "development['lift_ind'] = development[['Close','Open']].apply(lambda x: 1 if x[0] > x[1] else 0,axis=1)"
   ]
  },
  {
   "cell_type": "code",
   "execution_count": 15,
   "metadata": {},
   "outputs": [
    {
     "data": {
      "text/plain": [
       "5        0\n",
       "6        1\n",
       "7        1\n",
       "8        1\n",
       "9        0\n",
       "10       0\n",
       "11       1\n",
       "12       1\n",
       "13       0\n",
       "14       1\n",
       "15       1\n",
       "16       0\n",
       "17       1\n",
       "18       0\n",
       "19       1\n",
       "20       0\n",
       "21       1\n",
       "22       0\n",
       "23       1\n",
       "24       0\n",
       "25       0\n",
       "26       0\n",
       "27       1\n",
       "28       0\n",
       "29       1\n",
       "30       0\n",
       "31       1\n",
       "32       1\n",
       "33       1\n",
       "34       1\n",
       "        ..\n",
       "89119    1\n",
       "89120    0\n",
       "89121    1\n",
       "89122    1\n",
       "89123    0\n",
       "89124    1\n",
       "89125    1\n",
       "89126    0\n",
       "89127    1\n",
       "89128    0\n",
       "89129    0\n",
       "89130    1\n",
       "89131    0\n",
       "89132    0\n",
       "89133    0\n",
       "89134    0\n",
       "89135    0\n",
       "89136    1\n",
       "89137    0\n",
       "89138    0\n",
       "89139    1\n",
       "89140    1\n",
       "89141    1\n",
       "89142    0\n",
       "89143    0\n",
       "89144    0\n",
       "89145    1\n",
       "89146    0\n",
       "89147    1\n",
       "89148    1\n",
       "Name: lift_ind, Length: 88899, dtype: int64"
      ]
     },
     "execution_count": 15,
     "metadata": {},
     "output_type": "execute_result"
    }
   ],
   "source": [
    "development['lift_ind']"
   ]
  },
  {
   "cell_type": "code",
   "execution_count": 16,
   "metadata": {},
   "outputs": [
    {
     "name": "stdout",
     "output_type": "stream",
     "text": [
      "Volume_auto_1d\n",
      "Turnover_auto_1d\n",
      "Volume_bank_1d\n",
      "Turnover_bank_1d\n",
      "Volume_fmcg_1d\n",
      "Turnover_fmcg_1d\n",
      "Volume_it_1d\n",
      "Turnover_it_1d\n",
      "Volume_media_1d\n",
      "Turnover_media_1d\n",
      "Volume_metal_1d\n",
      "Turnover_metal_1d\n",
      "Volume_pharma_1d\n",
      "Turnover_pharma_1d\n",
      "Volume_realty_1d\n",
      "Turnover_realty_1d\n",
      "Volume_psu_1d\n",
      "Turnover_psu_1d\n",
      "Volume_500_1d\n",
      "Turnover_500_1d\n"
     ]
    }
   ],
   "source": [
    "null_cols = []\n",
    "for col in development.columns:\n",
    "    if development[col].isnull().any():\n",
    "        print(col)\n",
    "        null_cols.append(col)"
   ]
  },
  {
   "cell_type": "code",
   "execution_count": 17,
   "metadata": {},
   "outputs": [],
   "source": [
    "development.drop(null_cols,axis=1,inplace=True)"
   ]
  },
  {
   "cell_type": "code",
   "execution_count": 18,
   "metadata": {},
   "outputs": [],
   "source": [
    "for col in development.columns:\n",
    "    if development[col].isnull().any():\n",
    "        print(col)"
   ]
  },
  {
   "cell_type": "code",
   "execution_count": 19,
   "metadata": {},
   "outputs": [],
   "source": [
    "development.set_index(['Symbol','Date'],inplace=True)"
   ]
  },
  {
   "cell_type": "code",
   "execution_count": 20,
   "metadata": {},
   "outputs": [],
   "source": [
    "open_price = development['Open']\n",
    "close_price = development['Close']"
   ]
  },
  {
   "cell_type": "code",
   "execution_count": 21,
   "metadata": {},
   "outputs": [],
   "source": [
    "development.drop(['Open','Close'],axis=1,inplace=True)"
   ]
  },
  {
   "cell_type": "code",
   "execution_count": 22,
   "metadata": {},
   "outputs": [],
   "source": [
    "development.reset_index(inplace=True)"
   ]
  },
  {
   "cell_type": "code",
   "execution_count": 23,
   "metadata": {},
   "outputs": [],
   "source": [
    "training = development.loc[development['Date']<'2019-01-01']\n",
    "testing =  development.loc[development['Date']>='2019-01-01']"
   ]
  },
  {
   "cell_type": "code",
   "execution_count": 24,
   "metadata": {},
   "outputs": [],
   "source": [
    "os.chdir('../')"
   ]
  },
  {
   "cell_type": "code",
   "execution_count": 25,
   "metadata": {},
   "outputs": [
    {
     "data": {
      "text/plain": [
       "(85799, 134)"
      ]
     },
     "execution_count": 25,
     "metadata": {},
     "output_type": "execute_result"
    }
   ],
   "source": [
    "training.shape"
   ]
  },
  {
   "cell_type": "code",
   "execution_count": 26,
   "metadata": {},
   "outputs": [
    {
     "data": {
      "text/plain": [
       "'C:\\\\Users\\\\DELL\\\\Desktop\\\\Trading App\\\\Trading App_v02'"
      ]
     },
     "execution_count": 26,
     "metadata": {},
     "output_type": "execute_result"
    }
   ],
   "source": [
    "os.getcwd()"
   ]
  },
  {
   "cell_type": "code",
   "execution_count": 27,
   "metadata": {},
   "outputs": [],
   "source": [
    "os.chdir('Probability Prediction/Input_Data')"
   ]
  },
  {
   "cell_type": "code",
   "execution_count": 28,
   "metadata": {},
   "outputs": [],
   "source": [
    "open_price.to_csv('open_price.csv')\n",
    "close_price.to_csv('close_price.csv')"
   ]
  },
  {
   "cell_type": "code",
   "execution_count": null,
   "metadata": {},
   "outputs": [],
   "source": [
    "training.to_csv('train.csv',index=False)"
   ]
  },
  {
   "cell_type": "code",
   "execution_count": null,
   "metadata": {},
   "outputs": [],
   "source": [
    "testing.to_csv('validation.csv',index=False)"
   ]
  },
  {
   "cell_type": "code",
   "execution_count": null,
   "metadata": {},
   "outputs": [],
   "source": []
  }
 ],
 "metadata": {
  "kernelspec": {
   "display_name": "Python 3",
   "language": "python",
   "name": "python3"
  },
  "language_info": {
   "codemirror_mode": {
    "name": "ipython",
    "version": 3
   },
   "file_extension": ".py",
   "mimetype": "text/x-python",
   "name": "python",
   "nbconvert_exporter": "python",
   "pygments_lexer": "ipython3",
   "version": "3.6.5"
  }
 },
 "nbformat": 4,
 "nbformat_minor": 2
}
